{
 "cells": [
  {
   "cell_type": "code",
   "execution_count": 1,
   "metadata": {},
   "outputs": [],
   "source": [
    "from IPython.core.interactiveshell import InteractiveShell\n",
    "InteractiveShell.ast_node_interactivity = \"all\""
   ]
  },
  {
   "cell_type": "code",
   "execution_count": 2,
   "metadata": {},
   "outputs": [],
   "source": [
    "try:\n",
    "    import scrapy\n",
    "except:\n",
    "    !pip install scrapy\n",
    "    import scrapy\n",
    "from scrapy.crawler import CrawlerProcess"
   ]
  },
  {
   "cell_type": "code",
   "execution_count": 3,
   "metadata": {},
   "outputs": [],
   "source": [
    "import logging\n",
    "\n",
    "class PszSpider(scrapy.Spider):\n",
    "    name = \"psz\"\n",
    "    start_urls = [\n",
    "        \"https://www.nekretnine.rs/stambeni-objekti/kuce/lista/po-stranici\",\n",
    "        \"https://www.nekretnine.rs/stambeni-objekti/stanovi/lista/po-stranici\",\n",
    "    ]\n",
    "    custom_settings = {\n",
    "        'LOG_LEVEL': logging.WARNING,\n",
    "        'FEEDS': {\n",
    "            'psz1.json': {\n",
    "                'format': 'json',\n",
    "                'overwrite': True\n",
    "            }\n",
    "        }\n",
    "    }\n",
    "\n",
    "    def parse(self, response):\n",
    "\n",
    "        nekretnine_links = response.css('h2.offer-title a::attr(href)')\n",
    "        yield from response.follow_all(nekretnine_links, self.parse_nekretnina)\n",
    "\n",
    "        pagination_links = response.css('a.next-article-button::attr(href)')\n",
    "        yield from response.follow_all(pagination_links, self.parse) \n",
    "        # for stan in response.css('div.product-item'):\n",
    "        #     yield {\n",
    "        #         'adresa': stan.css('h3.product-title a::text').get()    \n",
    "        #     }\n",
    "            \n",
    "    def parse_nekretnina(self, response):\n",
    "        #response.xpath('//li[contains(text(), \" Transakcija: \")]') \n",
    "        tip_nekretnine = response.url.split('/')[-4]\n",
    "        stanje_nekretnine = '-'\n",
    "        uknjizenost = 'Ne'\n",
    "        godina_izgradnje = '-'\n",
    "        povrsina_zemljista = '-' # samo za kuce\n",
    "        ukupna_spratnost = '-' \n",
    "        broj_kupatila = '1'\n",
    "      #  broj_soba = '-'\n",
    "      \n",
    "        \n",
    "        for number in range(3,15):\n",
    "            left =  response.xpath(f'//*[@id=\"detalji\"]/div[1]/ul/li[{number}]/text()').get() if response.xpath(f'//*[@id=\"detalji\"]/div[1]/ul/li[{number}]/text()').get() is not None else '-'\n",
    "            if left == '-': break\n",
    "            right = response.xpath(f'//*[@id=\"detalji\"]/div[1]/ul/li[{number}]/strong/text()').get().strip() if response.xpath(f'//*[@id=\"detalji\"]/div[1]/ul/li[{number}]/strong/text()').get() is not None else '-'\n",
    "            if right == '-': break\n",
    "            if 'Stanje' in left:\n",
    "                stanje_nekretnine = right\n",
    "                break\n",
    "            elif 'Uknjiženo' in left:\n",
    "                uknjizenost = right\n",
    "                break\n",
    "            elif 'Godina' in left:\n",
    "                godina_izgradnje = right\n",
    "                break\n",
    "            # elif 'soba' in left:\n",
    "            #     broj_soba = right\n",
    "            #     break\n",
    "            elif 'Površina' in left:\n",
    "                povrsina_zemljista = right\n",
    "                break\n",
    "            elif 'kupatila' in left:\n",
    "                broj_kupatila = right\n",
    "                break\n",
    "        cena = response.xpath('/html/body/div[6]/div[7]/div/div[1]/div[3]/div/h4[1]/text()').get().strip() if response.xpath('/html/body/div[6]/div[7]/div/div[1]/div[3]/div/h4[1]/text()').get() is not None else '-'          \n",
    "        tip_ponude =  response.xpath('//*[@id=\"detalji\"]/div[1]/ul/li[1]/strong/text()').get().strip()\n",
    "        grad = response.xpath('//*[@id=\"lokacija\"]/div[1]/ul/li[3]/text()').get().strip() if response.xpath('//*[@id=\"lokacija\"]/div[1]/ul/li[3]/text()').get() is not None else '-'\n",
    "        deo_grada = response.xpath('//*[@id=\"lokacija\"]/div[1]/ul/li[4]/text()').get().split('(')[0] if response.xpath('//*[@id=\"lokacija\"]/div[1]/ul/li[4]/text()').get() is not None else '-'\n",
    "        kvadratura = response.xpath('//*[@id=\"detalji\"]/div[1]/ul/li[3]/strong/text()').get().split('m')[0].strip() if response.xpath('//*[@id=\"detalji\"]/div[1]/ul/li[3]/strong/text()').get() is not None else '-'\n",
    "        broj_soba = response.xpath('/html/body/div[6]/div[7]/div/div[1]/div[4]/div/ul/li[2]/span/text()').get().strip() if response.xpath('/html/body/div[6]/div[7]/div/div[1]/div[4]/div/ul/li[2]/span/text()').get() is not None else '-'\n",
    "        grejanje = response.xpath('/html/body/div[6]/div[7]/div/div[1]/div[4]/div/ul/li[3]/span/text()').get().strip() if response.xpath('/html/body/div[6]/div[7]/div/div[1]/div[4]/div/ul/li[3]/span/text()').get() is not None else '-'\n",
    "        parking = response.xpath('/html/body/div[6]/div[7]/div/div[1]/div[4]/div/ul/li[4]/span/text()').get().strip() if response.xpath('/html/body/div[6]/div[7]/div/div[1]/div[4]/div/ul/li[4]/span/text()').get() is not None else '-'\n",
    "        # dodatno\n",
    "        dodatno = response.xpath('//*[@id=\"detalji\"]/div[2]/ul').get()\n",
    "        terasa = 'Ne'\n",
    "        lift = 'Ne'\n",
    "        podrum = 'Ne'\n",
    "        if dodatno is not None:\n",
    "            if (('Terasa' in dodatno) or ('Balkon' in dodatno)):\n",
    "                terasa = 'Da'\n",
    "            if 'Lift' in dodatno:\n",
    "                lift = 'Da'\n",
    "            if 'Podrum' in dodatno:\n",
    "                podrum = 'Da'\n",
    "\n",
    "        if (tip_nekretnine == 'kuce'):\n",
    "            yield {\n",
    "                'tip_nekretnine': 'Kuca',\n",
    "                'tip_ponude':  tip_ponude,\n",
    "                'cena': cena,\n",
    "                'grad': grad,\n",
    "                'deo_grada': deo_grada,\n",
    "                'kvadratura': kvadratura,\n",
    "              #  'godina_izgradnje': godina_izgradnje,\n",
    "                'povrsina_zemljista': povrsina_zemljista,\n",
    "                'uknjizenost': uknjizenost,\n",
    "                'stanje_nekretnine': stanje_nekretnine,\n",
    "                'broj_kupatila': broj_kupatila,\n",
    "                'broj_soba': broj_soba,\n",
    "                'grejanje': grejanje,\n",
    "                'parking': parking\n",
    "            }\n",
    "        elif (tip_nekretnine == 'stanovi'):\n",
    "            sprat = response.xpath('/html/body/div[6]/div[7]/div/div[1]/div[4]/div/ul/li[5]/span/text()').get().split('/')[0].strip()  if response.xpath('/html/body/div[6]/div[7]/div/div[1]/div[4]/div/ul/li[5]/span/text()').get() is not None else '-' # samo za stanove\n",
    "            ukupna_spratnost = response.xpath('/html/body/div[6]/div[7]/div/div[1]/div[4]/div/ul/li[5]/span/text()').get().split('/')[1].strip() if response.xpath('/html/body/div[6]/div[7]/div/div[1]/div[4]/div/ul/li[5]/span/text()').get() is not None else '-' # samo za stanove\n",
    "            yield {\n",
    "                'tip_nekretnine': 'Stan',\n",
    "                'tip_ponude':  tip_ponude,\n",
    "                'cena': cena,\n",
    "                'grad': grad,\n",
    "                'deo_grada': deo_grada,\n",
    "                'kvadratura': kvadratura,\n",
    "              #  'godina_izgradnje': godina_izgradnje,\n",
    "                'uknjizenost': uknjizenost,\n",
    "                'stanje_nekretnine': stanje_nekretnine,\n",
    "                'ukupna_spratnost': ukupna_spratnost,\n",
    "                'sprat': sprat,\n",
    "                'broj_kupatila': broj_kupatila,\n",
    "                'broj_soba': broj_soba,\n",
    "                'grejanje': grejanje,\n",
    "                'parking': parking,\n",
    "                'terasa' : terasa,\n",
    "                'lift' : lift,\n",
    "                'podrum' : podrum\n",
    "            }\n",
    "        \n",
    "        "
   ]
  },
  {
   "cell_type": "code",
   "execution_count": 5,
   "metadata": {},
   "outputs": [
    {
     "name": "stderr",
     "output_type": "stream",
     "text": [
      "2021-08-22 22:50:07 [scrapy.utils.log] INFO: Scrapy 2.5.0 started (bot: scrapybot)\n",
      "2021-08-22 22:50:07 [scrapy.utils.log] INFO: Versions: lxml 4.6.1.0, libxml2 2.9.10, cssselect 1.1.0, parsel 1.6.0, w3lib 1.22.0, Twisted 21.7.0, Python 3.8.5 (default, Sep  3 2020, 21:29:08) [MSC v.1916 64 bit (AMD64)], pyOpenSSL 19.1.0 (OpenSSL 1.1.1h  22 Sep 2020), cryptography 3.1.1, Platform Windows-10-10.0.19041-SP0\n",
      "2021-08-22 22:50:07 [scrapy.utils.log] DEBUG: Using reactor: twisted.internet.selectreactor.SelectReactor\n",
      "2021-08-22 22:50:07 [scrapy.crawler] INFO: Overridden settings:\n",
      "{'FEED_EXPORT_ENCODING': 'utf-8',\n",
      " 'LOG_LEVEL': 30,\n",
      " 'USER_AGENT': 'Mozilla/5.0 (Windows NT 6.3; Win64; x64) AppleWebKit/537.36 '\n",
      "               '(KHTML, like Gecko) Chrome/37.0.2049.0 Safari/537.36'}\n"
     ]
    },
    {
     "data": {
      "text/plain": [
       "<Deferred at 0x1b278cb0220>"
      ]
     },
     "execution_count": 5,
     "metadata": {},
     "output_type": "execute_result"
    }
   ],
   "source": [
    "process = CrawlerProcess({\n",
    "    'USER_AGENT': 'Mozilla/5.0 (Windows NT 6.3; Win64; x64) AppleWebKit/537.36 (KHTML, like Gecko) Chrome/37.0.2049.0 Safari/537.36',\n",
    "    'FEED_EXPORT_ENCODING' : 'utf-8'\n",
    "})\n",
    "\n",
    "# process.crawl(PszSpider)\n",
    "# process.start()"
   ]
  },
  {
   "cell_type": "code",
   "execution_count": 17,
   "metadata": {},
   "outputs": [
    {
     "ename": "ValueError",
     "evalue": "Expected object or value",
     "output_type": "error",
     "traceback": [
      "\u001b[1;31m---------------------------------------------------------------------------\u001b[0m",
      "\u001b[1;31mValueError\u001b[0m                                Traceback (most recent call last)",
      "\u001b[1;32m<ipython-input-17-44efd5ab0a65>\u001b[0m in \u001b[0;36m<module>\u001b[1;34m\u001b[0m\n\u001b[0;32m      1\u001b[0m \u001b[1;32mimport\u001b[0m \u001b[0mpandas\u001b[0m \u001b[1;32mas\u001b[0m \u001b[0mpd\u001b[0m\u001b[1;33m\u001b[0m\u001b[1;33m\u001b[0m\u001b[0m\n\u001b[1;32m----> 2\u001b[1;33m \u001b[0mdfjson\u001b[0m \u001b[1;33m=\u001b[0m \u001b[0mpd\u001b[0m\u001b[1;33m.\u001b[0m\u001b[0mread_json\u001b[0m\u001b[1;33m(\u001b[0m\u001b[1;34m'psz1.json'\u001b[0m\u001b[1;33m,\u001b[0m \u001b[0mencoding\u001b[0m\u001b[1;33m=\u001b[0m\u001b[1;34m\"utf8\"\u001b[0m\u001b[1;33m,\u001b[0m \u001b[0mlines\u001b[0m\u001b[1;33m=\u001b[0m\u001b[1;32mTrue\u001b[0m\u001b[1;33m)\u001b[0m\u001b[1;33m\u001b[0m\u001b[1;33m\u001b[0m\u001b[0m\n\u001b[0m\u001b[0;32m      3\u001b[0m \u001b[0mdfjson\u001b[0m\u001b[1;33m\u001b[0m\u001b[1;33m\u001b[0m\u001b[0m\n",
      "\u001b[1;32mD:\\ProgramFiles\\Anaconda3\\lib\\site-packages\\pandas\\util\\_decorators.py\u001b[0m in \u001b[0;36mwrapper\u001b[1;34m(*args, **kwargs)\u001b[0m\n\u001b[0;32m    197\u001b[0m                 \u001b[1;32melse\u001b[0m\u001b[1;33m:\u001b[0m\u001b[1;33m\u001b[0m\u001b[1;33m\u001b[0m\u001b[0m\n\u001b[0;32m    198\u001b[0m                     \u001b[0mkwargs\u001b[0m\u001b[1;33m[\u001b[0m\u001b[0mnew_arg_name\u001b[0m\u001b[1;33m]\u001b[0m \u001b[1;33m=\u001b[0m \u001b[0mnew_arg_value\u001b[0m\u001b[1;33m\u001b[0m\u001b[1;33m\u001b[0m\u001b[0m\n\u001b[1;32m--> 199\u001b[1;33m             \u001b[1;32mreturn\u001b[0m \u001b[0mfunc\u001b[0m\u001b[1;33m(\u001b[0m\u001b[1;33m*\u001b[0m\u001b[0margs\u001b[0m\u001b[1;33m,\u001b[0m \u001b[1;33m**\u001b[0m\u001b[0mkwargs\u001b[0m\u001b[1;33m)\u001b[0m\u001b[1;33m\u001b[0m\u001b[1;33m\u001b[0m\u001b[0m\n\u001b[0m\u001b[0;32m    200\u001b[0m \u001b[1;33m\u001b[0m\u001b[0m\n\u001b[0;32m    201\u001b[0m         \u001b[1;32mreturn\u001b[0m \u001b[0mcast\u001b[0m\u001b[1;33m(\u001b[0m\u001b[0mF\u001b[0m\u001b[1;33m,\u001b[0m \u001b[0mwrapper\u001b[0m\u001b[1;33m)\u001b[0m\u001b[1;33m\u001b[0m\u001b[1;33m\u001b[0m\u001b[0m\n",
      "\u001b[1;32mD:\\ProgramFiles\\Anaconda3\\lib\\site-packages\\pandas\\util\\_decorators.py\u001b[0m in \u001b[0;36mwrapper\u001b[1;34m(*args, **kwargs)\u001b[0m\n\u001b[0;32m    294\u001b[0m                 )\n\u001b[0;32m    295\u001b[0m                 \u001b[0mwarnings\u001b[0m\u001b[1;33m.\u001b[0m\u001b[0mwarn\u001b[0m\u001b[1;33m(\u001b[0m\u001b[0mmsg\u001b[0m\u001b[1;33m,\u001b[0m \u001b[0mFutureWarning\u001b[0m\u001b[1;33m,\u001b[0m \u001b[0mstacklevel\u001b[0m\u001b[1;33m=\u001b[0m\u001b[0mstacklevel\u001b[0m\u001b[1;33m)\u001b[0m\u001b[1;33m\u001b[0m\u001b[1;33m\u001b[0m\u001b[0m\n\u001b[1;32m--> 296\u001b[1;33m             \u001b[1;32mreturn\u001b[0m \u001b[0mfunc\u001b[0m\u001b[1;33m(\u001b[0m\u001b[1;33m*\u001b[0m\u001b[0margs\u001b[0m\u001b[1;33m,\u001b[0m \u001b[1;33m**\u001b[0m\u001b[0mkwargs\u001b[0m\u001b[1;33m)\u001b[0m\u001b[1;33m\u001b[0m\u001b[1;33m\u001b[0m\u001b[0m\n\u001b[0m\u001b[0;32m    297\u001b[0m \u001b[1;33m\u001b[0m\u001b[0m\n\u001b[0;32m    298\u001b[0m         \u001b[1;32mreturn\u001b[0m \u001b[0mwrapper\u001b[0m\u001b[1;33m\u001b[0m\u001b[1;33m\u001b[0m\u001b[0m\n",
      "\u001b[1;32mD:\\ProgramFiles\\Anaconda3\\lib\\site-packages\\pandas\\io\\json\\_json.py\u001b[0m in \u001b[0;36mread_json\u001b[1;34m(path_or_buf, orient, typ, dtype, convert_axes, convert_dates, keep_default_dates, numpy, precise_float, date_unit, encoding, lines, chunksize, compression, nrows)\u001b[0m\n\u001b[0;32m    616\u001b[0m         \u001b[1;32mreturn\u001b[0m \u001b[0mjson_reader\u001b[0m\u001b[1;33m\u001b[0m\u001b[1;33m\u001b[0m\u001b[0m\n\u001b[0;32m    617\u001b[0m \u001b[1;33m\u001b[0m\u001b[0m\n\u001b[1;32m--> 618\u001b[1;33m     \u001b[0mresult\u001b[0m \u001b[1;33m=\u001b[0m \u001b[0mjson_reader\u001b[0m\u001b[1;33m.\u001b[0m\u001b[0mread\u001b[0m\u001b[1;33m(\u001b[0m\u001b[1;33m)\u001b[0m\u001b[1;33m\u001b[0m\u001b[1;33m\u001b[0m\u001b[0m\n\u001b[0m\u001b[0;32m    619\u001b[0m     \u001b[1;32mif\u001b[0m \u001b[0mshould_close\u001b[0m\u001b[1;33m:\u001b[0m\u001b[1;33m\u001b[0m\u001b[1;33m\u001b[0m\u001b[0m\n\u001b[0;32m    620\u001b[0m         \u001b[0mfilepath_or_buffer\u001b[0m\u001b[1;33m.\u001b[0m\u001b[0mclose\u001b[0m\u001b[1;33m(\u001b[0m\u001b[1;33m)\u001b[0m\u001b[1;33m\u001b[0m\u001b[1;33m\u001b[0m\u001b[0m\n",
      "\u001b[1;32mD:\\ProgramFiles\\Anaconda3\\lib\\site-packages\\pandas\\io\\json\\_json.py\u001b[0m in \u001b[0;36mread\u001b[1;34m(self)\u001b[0m\n\u001b[0;32m    751\u001b[0m                 \u001b[0mdata\u001b[0m \u001b[1;33m=\u001b[0m \u001b[0mensure_str\u001b[0m\u001b[1;33m(\u001b[0m\u001b[0mself\u001b[0m\u001b[1;33m.\u001b[0m\u001b[0mdata\u001b[0m\u001b[1;33m)\u001b[0m\u001b[1;33m\u001b[0m\u001b[1;33m\u001b[0m\u001b[0m\n\u001b[0;32m    752\u001b[0m                 \u001b[0mdata\u001b[0m \u001b[1;33m=\u001b[0m \u001b[0mdata\u001b[0m\u001b[1;33m.\u001b[0m\u001b[0msplit\u001b[0m\u001b[1;33m(\u001b[0m\u001b[1;34m\"\\n\"\u001b[0m\u001b[1;33m)\u001b[0m\u001b[1;33m\u001b[0m\u001b[1;33m\u001b[0m\u001b[0m\n\u001b[1;32m--> 753\u001b[1;33m                 \u001b[0mobj\u001b[0m \u001b[1;33m=\u001b[0m \u001b[0mself\u001b[0m\u001b[1;33m.\u001b[0m\u001b[0m_get_object_parser\u001b[0m\u001b[1;33m(\u001b[0m\u001b[0mself\u001b[0m\u001b[1;33m.\u001b[0m\u001b[0m_combine_lines\u001b[0m\u001b[1;33m(\u001b[0m\u001b[0mdata\u001b[0m\u001b[1;33m)\u001b[0m\u001b[1;33m)\u001b[0m\u001b[1;33m\u001b[0m\u001b[1;33m\u001b[0m\u001b[0m\n\u001b[0m\u001b[0;32m    754\u001b[0m         \u001b[1;32melse\u001b[0m\u001b[1;33m:\u001b[0m\u001b[1;33m\u001b[0m\u001b[1;33m\u001b[0m\u001b[0m\n\u001b[0;32m    755\u001b[0m             \u001b[0mobj\u001b[0m \u001b[1;33m=\u001b[0m \u001b[0mself\u001b[0m\u001b[1;33m.\u001b[0m\u001b[0m_get_object_parser\u001b[0m\u001b[1;33m(\u001b[0m\u001b[0mself\u001b[0m\u001b[1;33m.\u001b[0m\u001b[0mdata\u001b[0m\u001b[1;33m)\u001b[0m\u001b[1;33m\u001b[0m\u001b[1;33m\u001b[0m\u001b[0m\n",
      "\u001b[1;32mD:\\ProgramFiles\\Anaconda3\\lib\\site-packages\\pandas\\io\\json\\_json.py\u001b[0m in \u001b[0;36m_get_object_parser\u001b[1;34m(self, json)\u001b[0m\n\u001b[0;32m    775\u001b[0m         \u001b[0mobj\u001b[0m \u001b[1;33m=\u001b[0m \u001b[1;32mNone\u001b[0m\u001b[1;33m\u001b[0m\u001b[1;33m\u001b[0m\u001b[0m\n\u001b[0;32m    776\u001b[0m         \u001b[1;32mif\u001b[0m \u001b[0mtyp\u001b[0m \u001b[1;33m==\u001b[0m \u001b[1;34m\"frame\"\u001b[0m\u001b[1;33m:\u001b[0m\u001b[1;33m\u001b[0m\u001b[1;33m\u001b[0m\u001b[0m\n\u001b[1;32m--> 777\u001b[1;33m             \u001b[0mobj\u001b[0m \u001b[1;33m=\u001b[0m \u001b[0mFrameParser\u001b[0m\u001b[1;33m(\u001b[0m\u001b[0mjson\u001b[0m\u001b[1;33m,\u001b[0m \u001b[1;33m**\u001b[0m\u001b[0mkwargs\u001b[0m\u001b[1;33m)\u001b[0m\u001b[1;33m.\u001b[0m\u001b[0mparse\u001b[0m\u001b[1;33m(\u001b[0m\u001b[1;33m)\u001b[0m\u001b[1;33m\u001b[0m\u001b[1;33m\u001b[0m\u001b[0m\n\u001b[0m\u001b[0;32m    778\u001b[0m \u001b[1;33m\u001b[0m\u001b[0m\n\u001b[0;32m    779\u001b[0m         \u001b[1;32mif\u001b[0m \u001b[0mtyp\u001b[0m \u001b[1;33m==\u001b[0m \u001b[1;34m\"series\"\u001b[0m \u001b[1;32mor\u001b[0m \u001b[0mobj\u001b[0m \u001b[1;32mis\u001b[0m \u001b[1;32mNone\u001b[0m\u001b[1;33m:\u001b[0m\u001b[1;33m\u001b[0m\u001b[1;33m\u001b[0m\u001b[0m\n",
      "\u001b[1;32mD:\\ProgramFiles\\Anaconda3\\lib\\site-packages\\pandas\\io\\json\\_json.py\u001b[0m in \u001b[0;36mparse\u001b[1;34m(self)\u001b[0m\n\u001b[0;32m    884\u001b[0m \u001b[1;33m\u001b[0m\u001b[0m\n\u001b[0;32m    885\u001b[0m         \u001b[1;32melse\u001b[0m\u001b[1;33m:\u001b[0m\u001b[1;33m\u001b[0m\u001b[1;33m\u001b[0m\u001b[0m\n\u001b[1;32m--> 886\u001b[1;33m             \u001b[0mself\u001b[0m\u001b[1;33m.\u001b[0m\u001b[0m_parse_no_numpy\u001b[0m\u001b[1;33m(\u001b[0m\u001b[1;33m)\u001b[0m\u001b[1;33m\u001b[0m\u001b[1;33m\u001b[0m\u001b[0m\n\u001b[0m\u001b[0;32m    887\u001b[0m \u001b[1;33m\u001b[0m\u001b[0m\n\u001b[0;32m    888\u001b[0m         \u001b[1;32mif\u001b[0m \u001b[0mself\u001b[0m\u001b[1;33m.\u001b[0m\u001b[0mobj\u001b[0m \u001b[1;32mis\u001b[0m \u001b[1;32mNone\u001b[0m\u001b[1;33m:\u001b[0m\u001b[1;33m\u001b[0m\u001b[1;33m\u001b[0m\u001b[0m\n",
      "\u001b[1;32mD:\\ProgramFiles\\Anaconda3\\lib\\site-packages\\pandas\\io\\json\\_json.py\u001b[0m in \u001b[0;36m_parse_no_numpy\u001b[1;34m(self)\u001b[0m\n\u001b[0;32m   1117\u001b[0m         \u001b[1;32mif\u001b[0m \u001b[0morient\u001b[0m \u001b[1;33m==\u001b[0m \u001b[1;34m\"columns\"\u001b[0m\u001b[1;33m:\u001b[0m\u001b[1;33m\u001b[0m\u001b[1;33m\u001b[0m\u001b[0m\n\u001b[0;32m   1118\u001b[0m             self.obj = DataFrame(\n\u001b[1;32m-> 1119\u001b[1;33m                 \u001b[0mloads\u001b[0m\u001b[1;33m(\u001b[0m\u001b[0mjson\u001b[0m\u001b[1;33m,\u001b[0m \u001b[0mprecise_float\u001b[0m\u001b[1;33m=\u001b[0m\u001b[0mself\u001b[0m\u001b[1;33m.\u001b[0m\u001b[0mprecise_float\u001b[0m\u001b[1;33m)\u001b[0m\u001b[1;33m,\u001b[0m \u001b[0mdtype\u001b[0m\u001b[1;33m=\u001b[0m\u001b[1;32mNone\u001b[0m\u001b[1;33m\u001b[0m\u001b[1;33m\u001b[0m\u001b[0m\n\u001b[0m\u001b[0;32m   1120\u001b[0m             )\n\u001b[0;32m   1121\u001b[0m         \u001b[1;32melif\u001b[0m \u001b[0morient\u001b[0m \u001b[1;33m==\u001b[0m \u001b[1;34m\"split\"\u001b[0m\u001b[1;33m:\u001b[0m\u001b[1;33m\u001b[0m\u001b[1;33m\u001b[0m\u001b[0m\n",
      "\u001b[1;31mValueError\u001b[0m: Expected object or value"
     ]
    }
   ],
   "source": [
    "import pandas as pd\n",
    "dfjson = pd.read_json('psz1.json', encoding=\"utf8\", lines=True)\n",
    "dfjson"
   ]
  },
  {
   "cell_type": "code",
   "execution_count": null,
   "metadata": {},
   "outputs": [],
   "source": []
  }
 ],
 "metadata": {
  "kernelspec": {
   "display_name": "Python 3",
   "language": "python",
   "name": "python3"
  },
  "language_info": {
   "codemirror_mode": {
    "name": "ipython",
    "version": 3
   },
   "file_extension": ".py",
   "mimetype": "text/x-python",
   "name": "python",
   "nbconvert_exporter": "python",
   "pygments_lexer": "ipython3",
   "version": "3.8.5"
  }
 },
 "nbformat": 4,
 "nbformat_minor": 4
}
